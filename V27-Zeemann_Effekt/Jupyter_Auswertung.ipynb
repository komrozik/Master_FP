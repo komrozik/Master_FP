{
 "cells": [
  {
   "cell_type": "code",
   "execution_count": 1,
   "id": "de89d6b9",
   "metadata": {},
   "outputs": [],
   "source": [
    "import numpy as np\n",
    "import matplotlib\n",
    "font = {'size': 11.0}\n",
    "matplotlib.rc('font', **font)\n",
    "import matplotlib.pyplot as plt\n",
    "import pandas as pd\n",
    "\n",
    "from scipy.optimize import curve_fit\n",
    "import uncertainties.unumpy as unp\n",
    "from uncertainties.unumpy import (nominal_values as noms, std_devs as stds)\n",
    "from uncertainties import ufloat\n",
    "import scipy.constants as const"
   ]
  },
  {
   "cell_type": "code",
   "execution_count": 2,
   "id": "2d6ca828",
   "metadata": {},
   "outputs": [],
   "source": [
    "B,I = np.genfromtxt('data/data1.txt'\n",
    "                  ,unpack=True\n",
    "                  ,delimiter = \",\"\n",
    "                  ,skip_header = 2\n",
    "                   )\n",
    "df = pd.read_csv('data/data1.txt'\n",
    "                 ,header =[1])"
   ]
  },
  {
   "cell_type": "code",
   "execution_count": 3,
   "id": "d48a7dd7",
   "metadata": {},
   "outputs": [],
   "source": [
    "def f(x,a,b,c,d):\n",
    "    return a*x+b*x**2+c*x**3+d\n",
    "\n",
    "def g(x,a,b):\n",
    "    return a*x+b"
   ]
  },
  {
   "cell_type": "code",
   "execution_count": 4,
   "id": "f7352bd0",
   "metadata": {},
   "outputs": [
    {
     "data": {
      "text/html": [
       "<div>\n",
       "<style scoped>\n",
       "    .dataframe tbody tr th:only-of-type {\n",
       "        vertical-align: middle;\n",
       "    }\n",
       "\n",
       "    .dataframe tbody tr th {\n",
       "        vertical-align: top;\n",
       "    }\n",
       "\n",
       "    .dataframe thead th {\n",
       "        text-align: right;\n",
       "    }\n",
       "</style>\n",
       "<table border=\"1\" class=\"dataframe\">\n",
       "  <thead>\n",
       "    <tr style=\"text-align: right;\">\n",
       "      <th></th>\n",
       "      <th>B</th>\n",
       "      <th>I</th>\n",
       "    </tr>\n",
       "  </thead>\n",
       "  <tbody>\n",
       "    <tr>\n",
       "      <th>0</th>\n",
       "      <td>20</td>\n",
       "      <td>0.2</td>\n",
       "    </tr>\n",
       "    <tr>\n",
       "      <th>1</th>\n",
       "      <td>38</td>\n",
       "      <td>0.4</td>\n",
       "    </tr>\n",
       "    <tr>\n",
       "      <th>2</th>\n",
       "      <td>59</td>\n",
       "      <td>0.6</td>\n",
       "    </tr>\n",
       "    <tr>\n",
       "      <th>3</th>\n",
       "      <td>80</td>\n",
       "      <td>0.8</td>\n",
       "    </tr>\n",
       "    <tr>\n",
       "      <th>4</th>\n",
       "      <td>98</td>\n",
       "      <td>1.0</td>\n",
       "    </tr>\n",
       "    <tr>\n",
       "      <th>5</th>\n",
       "      <td>119</td>\n",
       "      <td>1.2</td>\n",
       "    </tr>\n",
       "    <tr>\n",
       "      <th>6</th>\n",
       "      <td>140</td>\n",
       "      <td>1.4</td>\n",
       "    </tr>\n",
       "    <tr>\n",
       "      <th>7</th>\n",
       "      <td>159</td>\n",
       "      <td>1.6</td>\n",
       "    </tr>\n",
       "    <tr>\n",
       "      <th>8</th>\n",
       "      <td>179</td>\n",
       "      <td>1.8</td>\n",
       "    </tr>\n",
       "    <tr>\n",
       "      <th>9</th>\n",
       "      <td>201</td>\n",
       "      <td>2.0</td>\n",
       "    </tr>\n",
       "    <tr>\n",
       "      <th>10</th>\n",
       "      <td>222</td>\n",
       "      <td>2.2</td>\n",
       "    </tr>\n",
       "    <tr>\n",
       "      <th>11</th>\n",
       "      <td>248</td>\n",
       "      <td>2.4</td>\n",
       "    </tr>\n",
       "    <tr>\n",
       "      <th>12</th>\n",
       "      <td>264</td>\n",
       "      <td>2.6</td>\n",
       "    </tr>\n",
       "    <tr>\n",
       "      <th>13</th>\n",
       "      <td>282</td>\n",
       "      <td>2.8</td>\n",
       "    </tr>\n",
       "    <tr>\n",
       "      <th>14</th>\n",
       "      <td>298</td>\n",
       "      <td>3.0</td>\n",
       "    </tr>\n",
       "    <tr>\n",
       "      <th>15</th>\n",
       "      <td>316</td>\n",
       "      <td>3.2</td>\n",
       "    </tr>\n",
       "    <tr>\n",
       "      <th>16</th>\n",
       "      <td>329</td>\n",
       "      <td>3.4</td>\n",
       "    </tr>\n",
       "    <tr>\n",
       "      <th>17</th>\n",
       "      <td>349</td>\n",
       "      <td>3.6</td>\n",
       "    </tr>\n",
       "    <tr>\n",
       "      <th>18</th>\n",
       "      <td>366</td>\n",
       "      <td>3.8</td>\n",
       "    </tr>\n",
       "    <tr>\n",
       "      <th>19</th>\n",
       "      <td>386</td>\n",
       "      <td>4.0</td>\n",
       "    </tr>\n",
       "    <tr>\n",
       "      <th>20</th>\n",
       "      <td>407</td>\n",
       "      <td>4.2</td>\n",
       "    </tr>\n",
       "    <tr>\n",
       "      <th>21</th>\n",
       "      <td>424</td>\n",
       "      <td>4.4</td>\n",
       "    </tr>\n",
       "    <tr>\n",
       "      <th>22</th>\n",
       "      <td>440</td>\n",
       "      <td>4.6</td>\n",
       "    </tr>\n",
       "    <tr>\n",
       "      <th>23</th>\n",
       "      <td>452</td>\n",
       "      <td>4.8</td>\n",
       "    </tr>\n",
       "    <tr>\n",
       "      <th>24</th>\n",
       "      <td>468</td>\n",
       "      <td>5.0</td>\n",
       "    </tr>\n",
       "    <tr>\n",
       "      <th>25</th>\n",
       "      <td>483</td>\n",
       "      <td>5.2</td>\n",
       "    </tr>\n",
       "    <tr>\n",
       "      <th>26</th>\n",
       "      <td>496</td>\n",
       "      <td>5.4</td>\n",
       "    </tr>\n",
       "    <tr>\n",
       "      <th>27</th>\n",
       "      <td>507</td>\n",
       "      <td>5.6</td>\n",
       "    </tr>\n",
       "    <tr>\n",
       "      <th>28</th>\n",
       "      <td>519</td>\n",
       "      <td>5.8</td>\n",
       "    </tr>\n",
       "    <tr>\n",
       "      <th>29</th>\n",
       "      <td>526</td>\n",
       "      <td>6.0</td>\n",
       "    </tr>\n",
       "    <tr>\n",
       "      <th>30</th>\n",
       "      <td>540</td>\n",
       "      <td>6.2</td>\n",
       "    </tr>\n",
       "    <tr>\n",
       "      <th>31</th>\n",
       "      <td>546</td>\n",
       "      <td>6.4</td>\n",
       "    </tr>\n",
       "    <tr>\n",
       "      <th>32</th>\n",
       "      <td>554</td>\n",
       "      <td>6.6</td>\n",
       "    </tr>\n",
       "    <tr>\n",
       "      <th>33</th>\n",
       "      <td>561</td>\n",
       "      <td>6.8</td>\n",
       "    </tr>\n",
       "    <tr>\n",
       "      <th>34</th>\n",
       "      <td>569</td>\n",
       "      <td>7.0</td>\n",
       "    </tr>\n",
       "    <tr>\n",
       "      <th>35</th>\n",
       "      <td>579</td>\n",
       "      <td>7.2</td>\n",
       "    </tr>\n",
       "    <tr>\n",
       "      <th>36</th>\n",
       "      <td>584</td>\n",
       "      <td>7.4</td>\n",
       "    </tr>\n",
       "    <tr>\n",
       "      <th>37</th>\n",
       "      <td>590</td>\n",
       "      <td>7.6</td>\n",
       "    </tr>\n",
       "    <tr>\n",
       "      <th>38</th>\n",
       "      <td>593</td>\n",
       "      <td>7.8</td>\n",
       "    </tr>\n",
       "  </tbody>\n",
       "</table>\n",
       "</div>"
      ],
      "text/plain": [
       "      B    I\n",
       "0    20  0.2\n",
       "1    38  0.4\n",
       "2    59  0.6\n",
       "3    80  0.8\n",
       "4    98  1.0\n",
       "5   119  1.2\n",
       "6   140  1.4\n",
       "7   159  1.6\n",
       "8   179  1.8\n",
       "9   201  2.0\n",
       "10  222  2.2\n",
       "11  248  2.4\n",
       "12  264  2.6\n",
       "13  282  2.8\n",
       "14  298  3.0\n",
       "15  316  3.2\n",
       "16  329  3.4\n",
       "17  349  3.6\n",
       "18  366  3.8\n",
       "19  386  4.0\n",
       "20  407  4.2\n",
       "21  424  4.4\n",
       "22  440  4.6\n",
       "23  452  4.8\n",
       "24  468  5.0\n",
       "25  483  5.2\n",
       "26  496  5.4\n",
       "27  507  5.6\n",
       "28  519  5.8\n",
       "29  526  6.0\n",
       "30  540  6.2\n",
       "31  546  6.4\n",
       "32  554  6.6\n",
       "33  561  6.8\n",
       "34  569  7.0\n",
       "35  579  7.2\n",
       "36  584  7.4\n",
       "37  590  7.6\n",
       "38  593  7.8"
      ]
     },
     "execution_count": 4,
     "metadata": {},
     "output_type": "execute_result"
    }
   ],
   "source": [
    "df"
   ]
  },
  {
   "cell_type": "code",
   "execution_count": 5,
   "id": "3067c409",
   "metadata": {},
   "outputs": [],
   "source": [
    "params1,cov = curve_fit(f,df['I'],df['B'])\n",
    "errors = np.sqrt(np.diag(cov))\n",
    "params1_err = unp.uarray(params1,errors)\n",
    "err = params1_err[0]*df['I']+params1_err[1]*df['I']**2+params1_err[2]*df['I']**3+params1_err[3]\n",
    "\n",
    "params2,cov = curve_fit(g,df['I'][0:25],df['B'][0:25])\n",
    "errors = np.sqrt(np.diag(cov))\n",
    "params2_err = unp.uarray(params2,errors)\n",
    "err = params2_err[0]*df['I']+params2_err[1]"
   ]
  },
  {
   "cell_type": "code",
   "execution_count": 6,
   "id": "7139d9e0",
   "metadata": {},
   "outputs": [
    {
     "data": {
      "image/png": "[encoded data removed]",
      "text/plain": [
       "<Figure size 1920x1188 with 1 Axes>"
      ]
     },
     "metadata": {
      "needs_background": "light"
     },
     "output_type": "display_data"
    }
   ],
   "source": [
    "x = np.linspace(0,8,1000)\n",
    "\n",
    "plt.figure(figsize=(6.4,3.96),dpi=300)\n",
    "plt.plot(df['I']\n",
    "         ,df['B']\n",
    "         ,'.'\n",
    "         ,ms = 3\n",
    "         ,label = 'Messdaten'\n",
    "        )\n",
    "if True:\n",
    "    plt.vlines(ymin = 0\n",
    "           ,ymax = 468\n",
    "           ,x = 5\n",
    "           ,color = 'k'\n",
    "           ,alpha = 0.5\n",
    "          )\n",
    "    plt.hlines(xmin = 0\n",
    "           ,xmax = 5\n",
    "           ,y = 468\n",
    "           ,color = 'k'\n",
    "           ,alpha = 0.5\n",
    "          )\n",
    "plt.plot(x\n",
    "         ,f(x,*params1)\n",
    "         ,alpha = 0.5\n",
    "         ,label = 'Fit eines Polynom 3. Ordnung'\n",
    "        )\n",
    "plt.plot(x\n",
    "         ,g(x,*params2)\n",
    "         ,alpha = 0.5\n",
    "         ,label = 'Fit einer linearen Funktion'\n",
    "        )\n",
    "plt.xlabel('B in mT')\n",
    "plt.ylabel(f'I in Ampere')\n",
    "plt.legend(loc = 'best')\n",
    "plt.tight_layout()"
   ]
  },
  {
   "cell_type": "code",
   "execution_count": 21,
   "id": "05b2907d",
   "metadata": {},
   "outputs": [],
   "source": [
    "df1 = pd.read_csv('data/data_blau_senkrecht.txt'\n",
    "                 ,header =[1])\n",
    "df2 = pd.read_csv('data/data_rot_senkrecht.txt'\n",
    "                 ,header =[1])"
   ]
  },
  {
   "cell_type": "markdown",
   "id": "96d8e6ca",
   "metadata": {},
   "source": [
    "lam = [643.8 *10**(-7), 480 *10**(-7), 480* 10**(-7)]  \n",
    "d = 0.004  \n",
    "L = 0.12  \n",
    "n = [1.4567, 1.4635, 1.4635]  "
   ]
  },
  {
   "cell_type": "code",
   "execution_count": 22,
   "id": "1af674e4",
   "metadata": {},
   "outputs": [],
   "source": [
    "def delta_lambda(lam,n,d):\n",
    "    \"\"\"Caculates the Dispersion area from the thickness, the wavelength and the difraction index\n",
    "\n",
    "        Parameters\n",
    "        ----------\n",
    "        lam: float\n",
    "            The wavelength lambda in meters\n",
    "        n: float\n",
    "            The diffraction index of the material\n",
    "        d: float\n",
    "            The thickness of the material in meters.\n",
    "\n",
    "        Returns\n",
    "        -------\n",
    "        delta_lambda: float\n",
    "            The Disperison region for the material with the specified wavelength.\n",
    "    \"\"\"\n",
    "    delta_lambda = lam**2/(2*d)*np.sqrt(1/(n**2-1))\n",
    "    return delta_lambda"
   ]
  },
  {
   "cell_type": "code",
   "execution_count": 23,
   "id": "b9f53059",
   "metadata": {},
   "outputs": [],
   "source": [
    "def add_del_lambda(df,lam,n):\n",
    "    \"\"\"Adds the Dispersion region to the given data frame.\n",
    "\n",
    "        Parameters\n",
    "        ----------\n",
    "        df: pandas data frame\n",
    "            The data frame with the information.\n",
    "        lam: float\n",
    "            The wavelength lambda in meters\n",
    "        n: float\n",
    "            The diffraction index of the material\n",
    "            \n",
    "\n",
    "        Returns\n",
    "        -------\n",
    "        df: pandas data frame\n",
    "            Data Frame with the added Disperion region\n",
    "    \"\"\"\n",
    "    df['del_lambda'] = 0.5*(df['del_s']/df['delta_s'])*delta_lambda(lam,n,0.004)\n",
    "    df['del_lambda_err'] = 0.5*df['del_lambda']*np.sqrt((3/df['delta_s'])**2+(3/df['del_s'])**2)\n",
    "    return df"
   ]
  },
  {
   "cell_type": "code",
   "execution_count": 24,
   "id": "4b50e4d8",
   "metadata": {},
   "outputs": [],
   "source": [
    "def get_landre(del_lam,B,lam):\n",
    "    \"\"\"Adds the Dispersion region to the given data frame.\n",
    "\n",
    "        Parameters\n",
    "        ----------\n",
    "        del_lam: float\n",
    "            The wavelength difference in meters\n",
    "        lam: float\n",
    "            The wavelength lambda in meters\n",
    "        B: float\n",
    "            The magnetic field strength in Tesla\n",
    "            \n",
    "\n",
    "        Returns\n",
    "        -------\n",
    "        g: float\n",
    "            The Landre Factor\n",
    "    \"\"\"\n",
    "    g = del_lam*(const.h*const.c)/(const.physical_constants['Bohr magneton'][0]*B*lam**2)\n",
    "    return g"
   ]
  },
  {
   "cell_type": "code",
   "execution_count": 35,
   "id": "7279e7ec",
   "metadata": {},
   "outputs": [],
   "source": [
    "def relative_unc(guess,true):\n",
    "    return (guess-true)/true"
   ]
  },
  {
   "cell_type": "code",
   "execution_count": 25,
   "id": "46543e7c",
   "metadata": {},
   "outputs": [],
   "source": [
    "df1 = add_del_lambda(df1,6.438*10**(-7),1.4567)"
   ]
  },
  {
   "cell_type": "code",
   "execution_count": 26,
   "id": "768ac14e",
   "metadata": {},
   "outputs": [],
   "source": [
    "# The further used del_lambda is the mean of the del_lambda in the df\n",
    "del_lambda1 = df1['del_lambda'].mean(axis = 0)\n",
    "del_lambda1_err = 1/np.sqrt(len(df1['del_lambda_err']))*np.sqrt(sum(df1['del_lambda_err']**2))\n",
    "\n",
    "del_lambda1_unc = ufloat(del_lambda1, del_lambda1_err)"
   ]
  },
  {
   "cell_type": "code",
   "execution_count": 27,
   "id": "3c581603",
   "metadata": {},
   "outputs": [
    {
     "data": {
      "text/plain": [
       "1.647655738286651e-11+/-1.1356931536094135e-12"
      ]
     },
     "execution_count": 27,
     "metadata": {},
     "output_type": "execute_result"
    }
   ],
   "source": [
    "del_lambda1_unc"
   ]
  },
  {
   "cell_type": "code",
   "execution_count": 28,
   "id": "1c7a6476",
   "metadata": {
    "scrolled": true
   },
   "outputs": [
    {
     "data": {
      "text/html": [
       "<div>\n",
       "<style scoped>\n",
       "    .dataframe tbody tr th:only-of-type {\n",
       "        vertical-align: middle;\n",
       "    }\n",
       "\n",
       "    .dataframe tbody tr th {\n",
       "        vertical-align: top;\n",
       "    }\n",
       "\n",
       "    .dataframe thead th {\n",
       "        text-align: right;\n",
       "    }\n",
       "</style>\n",
       "<table border=\"1\" class=\"dataframe\">\n",
       "  <thead>\n",
       "    <tr style=\"text-align: right;\">\n",
       "      <th></th>\n",
       "      <th>delta_s</th>\n",
       "      <th>del_s</th>\n",
       "      <th>del_lambda</th>\n",
       "      <th>del_lambda_err</th>\n",
       "    </tr>\n",
       "  </thead>\n",
       "  <tbody>\n",
       "    <tr>\n",
       "      <th>0</th>\n",
       "      <td>38</td>\n",
       "      <td>25</td>\n",
       "      <td>1.608966e-11</td>\n",
       "      <td>1.155566e-12</td>\n",
       "    </tr>\n",
       "    <tr>\n",
       "      <th>1</th>\n",
       "      <td>39</td>\n",
       "      <td>25</td>\n",
       "      <td>1.567710e-11</td>\n",
       "      <td>1.117294e-12</td>\n",
       "    </tr>\n",
       "    <tr>\n",
       "      <th>2</th>\n",
       "      <td>37</td>\n",
       "      <td>24</td>\n",
       "      <td>1.586353e-11</td>\n",
       "      <td>1.181784e-12</td>\n",
       "    </tr>\n",
       "    <tr>\n",
       "      <th>3</th>\n",
       "      <td>39</td>\n",
       "      <td>27</td>\n",
       "      <td>1.693127e-11</td>\n",
       "      <td>1.144047e-12</td>\n",
       "    </tr>\n",
       "    <tr>\n",
       "      <th>4</th>\n",
       "      <td>39</td>\n",
       "      <td>26</td>\n",
       "      <td>1.630419e-11</td>\n",
       "      <td>1.130492e-12</td>\n",
       "    </tr>\n",
       "    <tr>\n",
       "      <th>5</th>\n",
       "      <td>40</td>\n",
       "      <td>26</td>\n",
       "      <td>1.589658e-11</td>\n",
       "      <td>1.093825e-12</td>\n",
       "    </tr>\n",
       "    <tr>\n",
       "      <th>6</th>\n",
       "      <td>38</td>\n",
       "      <td>27</td>\n",
       "      <td>1.737683e-11</td>\n",
       "      <td>1.184253e-12</td>\n",
       "    </tr>\n",
       "    <tr>\n",
       "      <th>7</th>\n",
       "      <td>39</td>\n",
       "      <td>28</td>\n",
       "      <td>1.755835e-11</td>\n",
       "      <td>1.157945e-12</td>\n",
       "    </tr>\n",
       "    <tr>\n",
       "      <th>8</th>\n",
       "      <td>40</td>\n",
       "      <td>27</td>\n",
       "      <td>1.650799e-11</td>\n",
       "      <td>1.106487e-12</td>\n",
       "    </tr>\n",
       "    <tr>\n",
       "      <th>9</th>\n",
       "      <td>41</td>\n",
       "      <td>27</td>\n",
       "      <td>1.610535e-11</td>\n",
       "      <td>1.071328e-12</td>\n",
       "    </tr>\n",
       "    <tr>\n",
       "      <th>10</th>\n",
       "      <td>39</td>\n",
       "      <td>27</td>\n",
       "      <td>1.693127e-11</td>\n",
       "      <td>1.144047e-12</td>\n",
       "    </tr>\n",
       "  </tbody>\n",
       "</table>\n",
       "</div>"
      ],
      "text/plain": [
       "    delta_s  del_s    del_lambda  del_lambda_err\n",
       "0        38     25  1.608966e-11    1.155566e-12\n",
       "1        39     25  1.567710e-11    1.117294e-12\n",
       "2        37     24  1.586353e-11    1.181784e-12\n",
       "3        39     27  1.693127e-11    1.144047e-12\n",
       "4        39     26  1.630419e-11    1.130492e-12\n",
       "5        40     26  1.589658e-11    1.093825e-12\n",
       "6        38     27  1.737683e-11    1.184253e-12\n",
       "7        39     28  1.755835e-11    1.157945e-12\n",
       "8        40     27  1.650799e-11    1.106487e-12\n",
       "9        41     27  1.610535e-11    1.071328e-12\n",
       "10       39     27  1.693127e-11    1.144047e-12"
      ]
     },
     "execution_count": 28,
     "metadata": {},
     "output_type": "execute_result"
    }
   ],
   "source": [
    "df1"
   ]
  },
  {
   "cell_type": "code",
   "execution_count": 29,
   "id": "84eabf03",
   "metadata": {},
   "outputs": [
    {
     "data": {
      "text/plain": [
       "0.5908564723395322"
      ]
     },
     "execution_count": 29,
     "metadata": {},
     "output_type": "execute_result"
    }
   ],
   "source": [
    "B_feld = f(7.8,*params1)*10**(-3)\n",
    "B_feld"
   ]
  },
  {
   "cell_type": "code",
   "execution_count": 30,
   "id": "6e893a45",
   "metadata": {},
   "outputs": [
    {
     "data": {
      "text/plain": [
       "1.441091982960469+/-0.0993313263650276"
      ]
     },
     "execution_count": 30,
     "metadata": {},
     "output_type": "execute_result"
    }
   ],
   "source": [
    "get_landre(del_lambda1_unc,B_feld,6.438*10**(-7))\n",
    "#1.75"
   ]
  },
  {
   "cell_type": "code",
   "execution_count": 39,
   "id": "d293170b",
   "metadata": {},
   "outputs": [
    {
     "data": {
      "text/plain": [
       "-0.17651886687973203+/-0.05676075792287291"
      ]
     },
     "execution_count": 39,
     "metadata": {},
     "output_type": "execute_result"
    }
   ],
   "source": [
    "relative_unc(get_landre(del_lambda1_unc,B_feld,6.438*10**(-7)),1.75)"
   ]
  },
  {
   "cell_type": "code",
   "execution_count": 31,
   "id": "d45722d3",
   "metadata": {},
   "outputs": [],
   "source": [
    "df2 = add_del_lambda(df2,4.8*10**(-7),1.4635)"
   ]
  },
  {
   "cell_type": "code",
   "execution_count": 32,
   "id": "2e6cd79f",
   "metadata": {},
   "outputs": [],
   "source": [
    "del_lambda2 = df2['del_lambda'].mean(axis = 0)\n",
    "del_lambda2_err = 1/np.sqrt(len(df2['del_lambda_err']))*np.sqrt(sum(df2['del_lambda_err']**2))#df2['del_lambda_err'].mean(axis = 0)\n",
    "\n",
    "del_lambda2_unc = ufloat(del_lambda2, del_lambda2_err)"
   ]
  },
  {
   "cell_type": "code",
   "execution_count": 33,
   "id": "4738e092",
   "metadata": {},
   "outputs": [
    {
     "data": {
      "text/plain": [
       "7.198297067523555e-12+/-3.700643057236571e-13"
      ]
     },
     "execution_count": 33,
     "metadata": {},
     "output_type": "execute_result"
    }
   ],
   "source": [
    "del_lambda2_unc"
   ]
  },
  {
   "cell_type": "code",
   "execution_count": 34,
   "id": "32d166f5",
   "metadata": {},
   "outputs": [
    {
     "data": {
      "text/plain": [
       "1.1325945370243282+/-0.058226662095026596"
      ]
     },
     "execution_count": 34,
     "metadata": {},
     "output_type": "execute_result"
    }
   ],
   "source": [
    "get_landre(del_lambda2_unc,B_feld,4.8*10**(-7))\n",
    "#1.00"
   ]
  },
  {
   "cell_type": "code",
   "execution_count": 36,
   "id": "41160891",
   "metadata": {},
   "outputs": [
    {
     "data": {
      "text/plain": [
       "0.13259453702432822+/-0.058226662095026596"
      ]
     },
     "execution_count": 36,
     "metadata": {},
     "output_type": "execute_result"
    }
   ],
   "source": [
    "relative_unc(get_landre(del_lambda2_unc,B_feld,4.8*10**(-7)),1)"
   ]
  },
  {
   "cell_type": "code",
   "execution_count": null,
   "id": "fda074dc",
   "metadata": {},
   "outputs": [],
   "source": []
  }
 ],
 "metadata": {
  "kernelspec": {
   "display_name": "Python 3 (ipykernel)",
   "language": "python",
   "name": "python3"
  },
  "language_info": {
   "codemirror_mode": {
    "name": "ipython",
    "version": 3
   },
   "file_extension": ".py",
   "mimetype": "text/x-python",
   "name": "python",
   "nbconvert_exporter": "python",
   "pygments_lexer": "ipython3",
   "version": "3.9.7"
  }
 },
 "nbformat": 4,
 "nbformat_minor": 5
}
